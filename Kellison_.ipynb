{
  "nbformat": 4,
  "nbformat_minor": 0,
  "metadata": {
    "colab": {
      "provenance": [],
      "collapsed_sections": [],
      "authorship_tag": "ABX9TyNXY108IqiiJdYZCh+haDVK",
      "include_colab_link": true
    },
    "kernelspec": {
      "name": "python3",
      "display_name": "Python 3"
    },
    "language_info": {
      "name": "python"
    }
  },
  "cells": [
    {
      "cell_type": "markdown",
      "metadata": {
        "id": "view-in-github",
        "colab_type": "text"
      },
      "source": [
        "<a href=\"https://colab.research.google.com/github/Kellison86/Colab-kellison/blob/main/Kellison_.ipynb\" target=\"_parent\"><img src=\"https://colab.research.google.com/assets/colab-badge.svg\" alt=\"Open In Colab\"/></a>"
      ]
    },
    {
      "cell_type": "code",
      "execution_count": null,
      "metadata": {
        "id": "RkbQl1IkkDzA"
      },
      "outputs": [],
      "source": [
        "# Questão 1 Classiﬁque os tipos de dados das seguintes variáveis\n",
        "# 1.\tx = 5\n",
        "# 2.\tx = 5.0\n",
        "# 3.\tx = 5.5\n",
        "# 4.\tx = 'DNC'\n",
        "# 5.\tx = 1/2\n",
        "# 6.\tx = 0.5 * 2\n",
        "# 7.\tx = 2 ** 4\n",
        "# 8.\tx = 2+4\n",
        "# 9.\tx = 1000000000\n",
        "# 10. Peça para o usuário inputar um dado inteiro e conﬁra o tipo dele\n",
        "# 11. Peça para o usuário inputar um dado ﬂoat e conﬁra o tipo dele\n",
        "# 12. Peça para o usuário inputar um dado string e conﬁra o tipo dele\n",
        "# 13. Peça para o usuário inputar um dado sem deﬁnir o tipo e conﬁra o tipo dele"
      ]
    },
    {
      "cell_type": "code",
      "source": [
        "x = 5\n",
        "type(x)"
      ],
      "metadata": {
        "colab": {
          "base_uri": "https://localhost:8080/"
        },
        "id": "KcDLMa1tkh8v",
        "outputId": "9f42aa91-6cdd-474e-93d4-1b86e8755087"
      },
      "execution_count": null,
      "outputs": [
        {
          "output_type": "execute_result",
          "data": {
            "text/plain": [
              "int"
            ]
          },
          "metadata": {},
          "execution_count": 3
        }
      ]
    },
    {
      "cell_type": "code",
      "source": [
        "x = 5.0\n",
        "type (x)"
      ],
      "metadata": {
        "colab": {
          "base_uri": "https://localhost:8080/"
        },
        "id": "Oc8OvXM2khyM",
        "outputId": "e6dee265-a552-4948-f133-5c649091f4e5"
      },
      "execution_count": null,
      "outputs": [
        {
          "output_type": "execute_result",
          "data": {
            "text/plain": [
              "float"
            ]
          },
          "metadata": {},
          "execution_count": 4
        }
      ]
    },
    {
      "cell_type": "code",
      "source": [
        "x = 5.5\n",
        "type(x)"
      ],
      "metadata": {
        "colab": {
          "base_uri": "https://localhost:8080/"
        },
        "id": "Oo_Shqruk7qX",
        "outputId": "9bd35050-7755-4750-88dc-79f172b7ee9e"
      },
      "execution_count": null,
      "outputs": [
        {
          "output_type": "execute_result",
          "data": {
            "text/plain": [
              "float"
            ]
          },
          "metadata": {},
          "execution_count": 11
        }
      ]
    },
    {
      "cell_type": "code",
      "source": [
        "x = 'DNC'\n",
        "type(x)"
      ],
      "metadata": {
        "colab": {
          "base_uri": "https://localhost:8080/"
        },
        "id": "Klhj_3Pck-8a",
        "outputId": "de1b23ef-f2b3-4163-ca5f-8f270dfe57e7"
      },
      "execution_count": null,
      "outputs": [
        {
          "output_type": "execute_result",
          "data": {
            "text/plain": [
              "str"
            ]
          },
          "metadata": {},
          "execution_count": 10
        }
      ]
    },
    {
      "cell_type": "code",
      "source": [
        "x = 1/2\n",
        "type(x)"
      ],
      "metadata": {
        "colab": {
          "base_uri": "https://localhost:8080/"
        },
        "id": "pzRANp_1lC50",
        "outputId": "9f19859d-a593-43b2-c56a-27081ab31119"
      },
      "execution_count": null,
      "outputs": [
        {
          "output_type": "execute_result",
          "data": {
            "text/plain": [
              "float"
            ]
          },
          "metadata": {},
          "execution_count": 9
        }
      ]
    },
    {
      "cell_type": "code",
      "source": [
        "x = 0.5 * 2\n",
        "type(x)"
      ],
      "metadata": {
        "colab": {
          "base_uri": "https://localhost:8080/"
        },
        "id": "q5o11VdYlEhu",
        "outputId": "cb9277aa-b645-40d5-ef43-5fae8330c7dc"
      },
      "execution_count": null,
      "outputs": [
        {
          "output_type": "execute_result",
          "data": {
            "text/plain": [
              "float"
            ]
          },
          "metadata": {},
          "execution_count": 7
        }
      ]
    },
    {
      "cell_type": "code",
      "source": [
        "x = 2 ** 4\n",
        "type(x)"
      ],
      "metadata": {
        "colab": {
          "base_uri": "https://localhost:8080/"
        },
        "id": "DhjmsEjelGxE",
        "outputId": "feb98e8a-7699-4fb8-a68b-759148ea26c8"
      },
      "execution_count": null,
      "outputs": [
        {
          "output_type": "execute_result",
          "data": {
            "text/plain": [
              "int"
            ]
          },
          "metadata": {},
          "execution_count": 8
        }
      ]
    },
    {
      "cell_type": "code",
      "source": [
        "x = 2+4\n",
        "type(x)"
      ],
      "metadata": {
        "colab": {
          "base_uri": "https://localhost:8080/"
        },
        "id": "JNJkXloylIhK",
        "outputId": "da338767-2e1f-42e0-826c-d3208ba4b5e1"
      },
      "execution_count": null,
      "outputs": [
        {
          "output_type": "execute_result",
          "data": {
            "text/plain": [
              "int"
            ]
          },
          "metadata": {},
          "execution_count": 6
        }
      ]
    },
    {
      "cell_type": "code",
      "source": [
        "x = 1000000000\n",
        "type(x)"
      ],
      "metadata": {
        "colab": {
          "base_uri": "https://localhost:8080/"
        },
        "id": "BYbZ_O_zlKzi",
        "outputId": "1d140541-7c29-44c5-96c7-47bd292cfa6a"
      },
      "execution_count": null,
      "outputs": [
        {
          "output_type": "execute_result",
          "data": {
            "text/plain": [
              "int"
            ]
          },
          "metadata": {},
          "execution_count": 5
        }
      ]
    },
    {
      "cell_type": "code",
      "source": [
        "# Peça para o usuário inputar um dado inteiro e conﬁra o tipo dele\n",
        "x= int(input('Digite um numero inteiro: '))\n",
        "type(x)\n"
      ],
      "metadata": {
        "colab": {
          "base_uri": "https://localhost:8080/"
        },
        "id": "ZBhRxDLilZZI",
        "outputId": "4c677ac6-14a0-46eb-8d22-6c8cb5c66842"
      },
      "execution_count": null,
      "outputs": [
        {
          "name": "stdout",
          "output_type": "stream",
          "text": [
            "Digite um numero inteiro: 1\n"
          ]
        },
        {
          "output_type": "execute_result",
          "data": {
            "text/plain": [
              "int"
            ]
          },
          "metadata": {},
          "execution_count": 14
        }
      ]
    },
    {
      "cell_type": "code",
      "source": [
        "# 11. Peça para o usuário inputar um dado ﬂoat e conﬁra o tipo dele\n",
        "x= ﬂoat(input('Digite um numero com decimal: '))\n",
        "type(x)"
      ],
      "metadata": {
        "colab": {
          "base_uri": "https://localhost:8080/"
        },
        "id": "E9aYo6cOlcCV",
        "outputId": "2b879354-9c5e-48a5-8fe6-310acc79a018"
      },
      "execution_count": null,
      "outputs": [
        {
          "name": "stdout",
          "output_type": "stream",
          "text": [
            "Digite um numero inteiro: 1\n"
          ]
        },
        {
          "output_type": "execute_result",
          "data": {
            "text/plain": [
              "float"
            ]
          },
          "metadata": {},
          "execution_count": 15
        }
      ]
    },
    {
      "cell_type": "code",
      "source": [
        "# 12. Peça para o usuário inputar um dado string e conﬁra o tipo dele\n",
        "x= str(input('Digite um dado: '))\n",
        "type(x)"
      ],
      "metadata": {
        "colab": {
          "base_uri": "https://localhost:8080/"
        },
        "id": "VzaRcVI2lffT",
        "outputId": "0a74ce21-8d62-4a8a-924c-63a8dc86104b"
      },
      "execution_count": null,
      "outputs": [
        {
          "name": "stdout",
          "output_type": "stream",
          "text": [
            "Digite um dado: 11\n"
          ]
        },
        {
          "output_type": "execute_result",
          "data": {
            "text/plain": [
              "str"
            ]
          },
          "metadata": {},
          "execution_count": 18
        }
      ]
    },
    {
      "cell_type": "code",
      "source": [
        "# 13. Peça para o usuário inputar um dado sem deﬁnir o tipo e conﬁra o tipo dele\n",
        "x= input('Digite um dado: ')\n",
        "type(x)"
      ],
      "metadata": {
        "colab": {
          "base_uri": "https://localhost:8080/"
        },
        "id": "MfGjgdK8lgTD",
        "outputId": "df4cfa34-ed61-4c8d-bc11-90dec8e40099"
      },
      "execution_count": null,
      "outputs": [
        {
          "name": "stdout",
          "output_type": "stream",
          "text": [
            "Digite um dado: 87\n"
          ]
        },
        {
          "output_type": "execute_result",
          "data": {
            "text/plain": [
              "str"
            ]
          },
          "metadata": {},
          "execution_count": 20
        }
      ]
    },
    {
      "cell_type": "code",
      "source": [
        "# Questão 2: Faça um print com duas linhas tracejadas acima e duas abaixo com  50 linhas em cada uma delas e no meio coloque \"DS06 - DNC\"\n",
        "info ='DS06 - DNC'\n",
        "info_=info.center(50,'-')\n",
        "\n",
        "print('-'*50)\n",
        "print(info_)\n",
        "print('-'*50)"
      ],
      "metadata": {
        "colab": {
          "base_uri": "https://localhost:8080/"
        },
        "id": "dH6ZD9E6mmSg",
        "outputId": "1d43a48d-f314-42fe-a857-315bb64367fb"
      },
      "execution_count": null,
      "outputs": [
        {
          "output_type": "stream",
          "name": "stdout",
          "text": [
            "--------------------------------------------------\n",
            "--------------------DS06 - DNC--------------------\n",
            "--------------------------------------------------\n"
          ]
        }
      ]
    },
    {
      "cell_type": "code",
      "source": [
        "# Questão 3. Você acabou de se formar na turma 05 de Formação em dados e conseguiu um emprego de um cientista de dados jr. com um salário de  R$10.000,00 mensais. Você quer calcular quanto \n",
        "# conseguirá guardar na poupança ao ﬁnal do mês depois que pagar suas contas. Considere os  dados abaixo para fazer um print igual ao que está em anexo.\n",
        "# salario_cientista_de_dados = 10000.00\n",
        "# parcela_bmw = 2500.45\n",
        "# parcela_apartamento = 3500.50\n",
        "# veterinario_romeuzinho = 500.00\n",
        "# luz = 100.80\n",
        "# agua = 80.35\n",
        "# condominio = 800.44\n",
        "# gas = 150.65\n",
        "\n",
        "salario_cientista_de_dados = 10000.00\n",
        "despesa ={'parcela_bmw': 2500.45,'parcela_apartamento': 3500.50 , 'veterinario_romeuzinho': 500.00 , 'luz': 100.80 , 'agua': 80.35 , 'condominio': 800.44 , 'gas': 150.65}\n",
        "print('*' * 100)\n",
        "print('Seu salário é de cientista de dados jr é de r$', salario_cientista_de_dados, 'seus gastos estão dispostos a seguir')\n",
        "for chave_valor in despesa.items():\n",
        "  key, val = chave_valor\n",
        "  print(f'{key} = {val}')\n",
        "print('*' * 100)\n",
        "total = sum(despesa[x] for x in despesa)\n",
        "print('O valor disponível para colocar na poupança e de: R$', round(salario_cientista_de_dados - total,2))"
      ],
      "metadata": {
        "colab": {
          "base_uri": "https://localhost:8080/"
        },
        "id": "FACIPz9voleG",
        "outputId": "b4be524d-aad0-4bf3-d5b5-404f3bf18a2f"
      },
      "execution_count": null,
      "outputs": [
        {
          "output_type": "stream",
          "name": "stdout",
          "text": [
            "****************************************************************************************************\n",
            "Seu salário é de cientista de dados jr é de r$ 10000.0 seus gastos estão dispostos a seguir\n",
            "parcela_bmw = 2500.45\n",
            "parcela_apartamento = 3500.5\n",
            "veterinario_romeuzinho = 500.0\n",
            "luz = 100.8\n",
            "agua = 80.35\n",
            "condominio = 800.44\n",
            "gas = 150.65\n",
            "****************************************************************************************************\n",
            "O valor disponível para colocar na poupança e de: R$ 2366.81\n"
          ]
        }
      ]
    },
    {
      "cell_type": "code",
      "source": [
        "# Questão 4: Você é um vendedor de cursos na DNC e os clientes entram em contato com  você para adquirir um de nossos seguintes cursos (Com os respectivos valores) e o  cliente pode escolher apenas 1,\n",
        "# 1. Formação_em_dados = 20000.00\n",
        "# 2. Formação_em_projetos = 15000.00\n",
        "# 3. Formação_em_marketing = 13000.00\n",
        "# 4. Formação_em_produto = 18000.00\n",
        "# 5. Formação_em_tecnologia = 19000.00\n",
        "\n",
        "# Monte um código onde a primeira pergunta será \"Qual curso você quer escolher)\n",
        "#  1 =  Formação_em_dados, \n",
        "#  2 = Formação_em_projetos, \n",
        "#  3 = Formação_em_marketing, \n",
        "#  4=  Formação_em_produto, \n",
        "#  5 = Formação_em_tecnologia)?\n",
        " \n",
        "# E de acordo com a escolha, ele entre em um if e emita a seguinte mensagem padrão  \n",
        "# \"Você escolheu o curso Formação em XXXXX no valor de R$ valor que começará no próximo mês\".\n",
        "# Caso o usuário digite um valor diferente dos dispostos, emita a seguinte mensagem  \n",
        "# \"Digite um valor correspondente a um curso de nossas formações \\n1-Formação em  dados \\n 2-Formação em projetos\\n 3-Formação em marketing\\n4-Formação em  produto\\n5-Formação em tecnologia\"\n",
        "\n",
        "\n",
        "Formação_em_dados = 20000.00\n",
        "Formação_em_projetos = 15000.00\n",
        "Formação_em_marketing = 13000.00\n",
        "Formação_em_produto = 18000.00\n",
        "Formação_em_tecnologia = 19000.00\n",
        "c= int(input('Selecione o codigo do curso: '))\n",
        "if c == 1:\n",
        "  print('Você escolheu o curso Formação em dados, no valor de R$ {}, que começará no proximo mês' .format(Formação_em_dados,))\n",
        "elif c == 2:                   \n",
        "  print('Você escolheu o curso Formação em projetos, no valor de R$ {}, que começará no proximo mês' .format(Formação_em_projetos))\n",
        "elif c == 3:                   \n",
        "  print('Você escolheu o curso Formação em marketing, no valor de R$ {}, que começará no proximo mês' .format(Formação_em_marketing))\n",
        "elif c == 4:                   \n",
        "  print('Você escolheu o curso Formação em tecnologia, no valor de R$ {}, que começará no proximo mês' .format(Formação_em_produto))\n",
        "elif c == 5:                   \n",
        "  print('Você escolheu o curso Formação em produto, no valor de R$ {}, que começará no proximo mês' .format(Formação_em_tecnologia))\n",
        "else:\n",
        "  print('Você selecionou um curso invalido favor tentar novamente')\n"
      ],
      "metadata": {
        "colab": {
          "base_uri": "https://localhost:8080/"
        },
        "id": "aUnshlMmymfl",
        "outputId": "b52f12b5-c658-4148-8ed5-430d6a295bf0"
      },
      "execution_count": null,
      "outputs": [
        {
          "output_type": "stream",
          "name": "stdout",
          "text": [
            "Selecione o codigo do curso: 1\n",
            "Você escolheu o curso Formação em dados, no valor de R$ 20000.0, que começará no proximo mês\n"
          ]
        }
      ]
    },
    {
      "cell_type": "code",
      "source": [
        "# Questão 5. A DNC pretende faturar 2 milhões em 1 mês. Faça a leitura da quantidade de vendas de cada formação e calcule a receita total de vendas, a receita media geral e verifique se eles bateram a meta mensal utilizando as seguintes mensagens\n",
        "# Se bateram: \"Parabéns!!! A DNC bateu a meta do mês\"\n",
        "# Se não bateram: \"Esse mês não batemos a meta, porém mês que vem vamos vir mais forte pra recuperar!!!\"\n",
        "\n",
        "\n",
        "# (Utilize as informações de preço do exercício acima)\n",
        "\n",
        "Formação_em_dados = 20000.00\n",
        "Formação_em_projetos = 15000.00\n",
        "Formação_em_marketing = 13000.00\n",
        "Formação_em_produto = 18000.00\n",
        "Formação_em_tecnologia = 19000.00\n",
        "\n",
        "# cursos = {'1. Formação_em_dados ':  20000.00, '2. Formação_em_projetos ':  15000.00, '3. Formação_em_marketing ':  13000.00, '4. Formação_em_produto ':  18000.00, '5. Formação_em_tecnologia ':  19000.00}\n",
        "dados= int(input('Quantos cursos de formação de dados foram vendidos '))\n",
        "projeto= int(input('Quantos cursos de Formação em projetos foram vendidos '))\n",
        "marketing= int(input('Quantos cursos de Formação em marketin foram vendidos '))\n",
        "produto= int(input('Quantos cursos de Formação em produto foram vendidos '))\n",
        "tecnologia= int(input('Quantos cursos de Formação em tecnologia foram vendidos '))\n",
        "\n",
        "somadados = (dados * Formação_em_dados)\n",
        "somaprojeto = (projeto * Formação_em_projetos)\n",
        "somamarketing = (marketing * Formação_em_marketing)\n",
        "somaproduto = (produto * Formação_em_produto)\n",
        "somatecnologia = (tecnologia * Formação_em_tecnologia)\n",
        "total = somadados + somaprojeto + somamarketing + somaproduto + somatecnologia\n",
        "media = total / 5\n",
        "\n",
        "print(f'A receita total foi R$ {total:,.2f}')\n",
        "print(f'A media foi de R$ {media:,.2f}')\n",
        "\n",
        "if total >= 2000000.00:\n",
        "  print ('Parabéns!!! A DNC bateu a meta do mês')\n",
        "else:\n",
        "  print('Esse mês não batemos a meta, porém mês que vem vamos vir mais forte pra recuperar!!!')\n"
      ],
      "metadata": {
        "colab": {
          "base_uri": "https://localhost:8080/"
        },
        "id": "R13NRtcwD67A",
        "outputId": "61240ea3-2c98-4615-c266-8ce6703965ee"
      },
      "execution_count": null,
      "outputs": [
        {
          "output_type": "stream",
          "name": "stdout",
          "text": [
            "Quantos cursos de formação de dados foram vendidos 255\n",
            "Quantos cursos de Formação em projetos foram vendidos 2\n",
            "Quantos cursos de Formação em marketin foram vendidos 1\n",
            "Quantos cursos de Formação em produto foram vendidos 3\n",
            "Quantos cursos de Formação em tecnologia foram vendidos 1\n",
            "A receita total foi R$ 5,216,000.00\n",
            "A media foi de R$ 1,043,200.00\n",
            "Parabéns!!! A DNC bateu a meta do mês\n"
          ]
        }
      ]
    },
    {
      "cell_type": "code",
      "source": [
        "# O aluno da DNC precisa fazer um programa onde ele some uma sequencia de números, ele precisa informar em qual número (contador) a soma terá que parar. Monte uma estrutura de repetição onde ele satisfaça esse problema.\n",
        "soma= 0\n",
        "i=0\n",
        "x = float(input('Digite o valor que parara '))\n",
        "while i<x:\n",
        "  soma= soma+i\n",
        "  i += 1\n",
        "print('-*'*30)\n",
        "print('seu codigo finalizou e a soma foi:', soma)\n"
      ],
      "metadata": {
        "colab": {
          "base_uri": "https://localhost:8080/"
        },
        "id": "vbxBKVGwNgTO",
        "outputId": "33391eb1-f4c4-463a-bd2b-7e9b292a7123"
      },
      "execution_count": null,
      "outputs": [
        {
          "output_type": "stream",
          "name": "stdout",
          "text": [
            "Digite o valor que parara 5\n",
            "-*-*-*-*-*-*-*-*-*-*-*-*-*-*-*-*-*-*-*-*-*-*-*-*-*-*-*-*-*-*\n",
            "seu codigo finalizou e a soma foi: 10\n"
          ]
        }
      ]
    },
    {
      "cell_type": "code",
      "source": [],
      "metadata": {
        "id": "NsD1l0edW9Xk"
      },
      "execution_count": null,
      "outputs": []
    }
  ]
}